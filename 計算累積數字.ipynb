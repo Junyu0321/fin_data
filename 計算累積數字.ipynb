{
  "nbformat": 4,
  "nbformat_minor": 0,
  "metadata": {
    "colab": {
      "provenance": [],
      "authorship_tag": "ABX9TyPYkXy78PoXDX8nIj56DNTu",
      "include_colab_link": true
    },
    "kernelspec": {
      "name": "python3",
      "display_name": "Python 3"
    },
    "language_info": {
      "name": "python"
    }
  },
  "cells": [
    {
      "cell_type": "markdown",
      "metadata": {
        "id": "view-in-github",
        "colab_type": "text"
      },
      "source": [
        "<a href=\"https://colab.research.google.com/github/Junyu0321/fin_data/blob/main/%E8%A8%88%E7%AE%97%E7%B4%AF%E7%A9%8D%E6%95%B8%E5%AD%97.ipynb\" target=\"_parent\"><img src=\"https://colab.research.google.com/assets/colab-badge.svg\" alt=\"Open In Colab\"/></a>"
      ]
    },
    {
      "cell_type": "code",
      "execution_count": null,
      "metadata": {
        "id": "ysEUVvT1ucn1"
      },
      "outputs": [],
      "source": [
        "Q1 = 26295929"
      ]
    },
    {
      "cell_type": "code",
      "source": [
        "Q2 = 27668242"
      ],
      "metadata": {
        "id": "y-GcOpXiusgB"
      },
      "execution_count": null,
      "outputs": []
    },
    {
      "cell_type": "code",
      "source": [
        "Q3 = 27002993"
      ],
      "metadata": {
        "id": "1AJxYTKrxSPg"
      },
      "execution_count": null,
      "outputs": []
    },
    {
      "cell_type": "code",
      "source": [
        "Q4 = 28347871"
      ],
      "metadata": {
        "id": "N_-Q4-W0xSxg"
      },
      "execution_count": null,
      "outputs": []
    },
    {
      "cell_type": "code",
      "source": [
        "ACC_Q1 = Q1\n",
        "print(ACC_Q1)"
      ],
      "metadata": {
        "id": "se91JwO9uukA"
      },
      "execution_count": null,
      "outputs": []
    },
    {
      "cell_type": "code",
      "source": [
        "ACC_Q2 = Q1 + Q2\n",
        "print(ACC_Q2)"
      ],
      "metadata": {
        "colab": {
          "base_uri": "https://localhost:8080/"
        },
        "id": "l3Xt5lZPu2f5",
        "outputId": "1ec38c12-a725-41b4-f69f-afd4d78b5e72"
      },
      "execution_count": null,
      "outputs": [
        {
          "output_type": "stream",
          "name": "stdout",
          "text": [
            "1\n"
          ]
        }
      ]
    },
    {
      "cell_type": "code",
      "source": [
        "ACC_Q3 = Q1 + Q2 + Q3\n",
        "print(ACC_Q3)"
      ],
      "metadata": {
        "id": "7ZWVGmkjxgbR"
      },
      "execution_count": null,
      "outputs": []
    },
    {
      "cell_type": "code",
      "source": [
        "ACC_Q4 = Q1 + Q2 + Q3 + Q4\n",
        "print(ACC_Q4)"
      ],
      "metadata": {
        "id": "PHC03tA2xg1I"
      },
      "execution_count": null,
      "outputs": []
    }
  ]
}